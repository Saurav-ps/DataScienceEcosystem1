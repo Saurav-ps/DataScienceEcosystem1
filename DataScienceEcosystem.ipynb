{
 "cells": [
  {
   "cell_type": "markdown",
   "id": "ae6fdfd2-a723-417d-a919-07041e7f8c51",
   "metadata": {},
   "source": [
    "# Data Science Tools and Ecosystem"
   ]
  },
  {
   "cell_type": "markdown",
   "id": "4732cb30-e038-46b9-8857-9c0e4913e813",
   "metadata": {},
   "source": [
    "In this notebook, Data Science Tools and Ecosystem are summarized."
   ]
  },
  {
   "cell_type": "markdown",
   "id": "91343f6b-1b5e-402f-b027-5ac4549d6e50",
   "metadata": {},
   "source": [
    "**Objectives:**\n",
    "- List of the popular languages that Data Scientists use\n",
    "- List of commonly used libraries by Data Scientists\n",
    "- List of some Data Science Tools\n",
    "- Multiplying and Adding integers\n",
    "- Converting minutes to hours"
   ]
  },
  {
   "cell_type": "markdown",
   "id": "6e919e96-28db-4efd-8de8-59f83feeeef1",
   "metadata": {},
   "source": [
    "Some of the popular languages that Data Scientists use are:\n",
    "1. Python\n",
    "2. R\n",
    "3. SQL\n",
    "4. Julia\n",
    "5. Scala"
   ]
  },
  {
   "cell_type": "markdown",
   "id": "dea88ff8-cbc6-4a77-a73e-b9b3b288b3c4",
   "metadata": {},
   "source": [
    "Some of the commonly used libraries used by Data Scientists include:\n",
    "1. NumPy\n",
    "2. Pandas\n",
    "3. TensorFlow\n",
    "4. Scikit-learn"
   ]
  },
  {
   "cell_type": "markdown",
   "id": "09272c7d-607e-4ac9-b180-e554888ebb85",
   "metadata": {},
   "source": [
    "|Data Science Tools  |\n",
    "|:----------------|\n",
    "|Jupyter Notebooks   |\n",
    "|RStudio         |\n",
    "|Apache Zeppelin    |"
   ]
  },
  {
   "attachments": {},
   "cell_type": "markdown",
   "id": "0e66c442-d20f-4332-96f9-7c612c89e228",
   "metadata": {},
   "source": [
    "### Below are a few examples of evaluating arithmetic expressions in Python"
   ]
  },
  {
   "cell_type": "code",
   "execution_count": 2,
   "id": "a71b5b90-cb81-433c-aa4d-c9f27fcf7e52",
   "metadata": {},
   "outputs": [
    {
     "data": {
      "text/plain": [
       "17"
      ]
     },
     "execution_count": 2,
     "metadata": {},
     "output_type": "execute_result"
    }
   ],
   "source": [
    "#This a simple arithmetic expression to mutiply then add integers\n",
    "(3*4)+5\n"
   ]
  },
  {
   "cell_type": "code",
   "execution_count": 3,
   "id": "22b98f57-147e-4ce2-bf67-789fa225e1c7",
   "metadata": {},
   "outputs": [
    {
     "data": {
      "text/plain": [
       "3.3333333333333335"
      ]
     },
     "execution_count": 3,
     "metadata": {},
     "output_type": "execute_result"
    }
   ],
   "source": [
    "#This will convert 200 minutes to hours by diving by 60\n",
    "200/60"
   ]
  },
  {
   "cell_type": "markdown",
   "id": "e2979dff-3e35-4215-b55d-0901b64d5119",
   "metadata": {},
   "source": [
    "## Author\n",
    "Sowrabh PS"
   ]
  },
  {
   "cell_type": "code",
   "execution_count": null,
   "id": "12539ef9-93d6-4fca-bff5-f1b1c1f5de4a",
   "metadata": {},
   "outputs": [],
   "source": []
  }
 ],
 "metadata": {
  "kernelspec": {
   "display_name": "Python 3 (ipykernel)",
   "language": "python",
   "name": "python3"
  },
  "language_info": {
   "codemirror_mode": {
    "name": "ipython",
    "version": 3
   },
   "file_extension": ".py",
   "mimetype": "text/x-python",
   "name": "python",
   "nbconvert_exporter": "python",
   "pygments_lexer": "ipython3",
   "version": "3.12.4"
  }
 },
 "nbformat": 4,
 "nbformat_minor": 5
}
